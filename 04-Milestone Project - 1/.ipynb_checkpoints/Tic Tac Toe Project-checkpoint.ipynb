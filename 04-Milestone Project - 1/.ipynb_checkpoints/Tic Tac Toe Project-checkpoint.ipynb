{
 "cells": [
  {
   "cell_type": "code",
   "execution_count": null,
   "metadata": {},
   "outputs": [],
   "source": [
    "from IPython.display import clear_output"
   ]
  },
  {
   "cell_type": "code",
   "execution_count": 79,
   "metadata": {},
   "outputs": [],
   "source": [
    "def display(brd):\n",
    "    print(f' {brd[6]} | {brd[7]} | {brd[8]} ')\n",
    "    print('\\n-----------\\n')\n",
    "    print(f' {brd[3]} | {brd[4]} | {brd[5]} ')\n",
    "    print('\\n-----------\\n') \n",
    "    print(f' {brd[0]} | {brd[1]} | {brd[2]} ')"
   ]
  },
  {
   "cell_type": "code",
   "execution_count": 94,
   "metadata": {},
   "outputs": [],
   "source": [
    "def take_turn(brd, player):\n",
    "    \n",
    "    valid = False\n",
    "    while not valid:\n",
    "        spot = input(f'Select a spot, Player {player}.')\n",
    "        \n",
    "        # Check for valid input\n",
    "        if spot.isdigit() and int(spot) in range(1,10):\n",
    "            spot = int(spot)\n",
    "            \n",
    "            # Check if spot available\n",
    "            if brd[spot - 1] == ' ':\n",
    "                valid = True\n",
    "                \n",
    "                # Mark the board\n",
    "                if player == 'X':\n",
    "                    brd[spot - 1] = 'X'\n",
    "                else:\n",
    "                    brd[spot - 1] = 'O'\n",
    "            else:\n",
    "                print(f'Spot unavailable. Try again, Player {player}.')  \n",
    "        else:\n",
    "            print(f'Spot invalid. Try again, Player {player}.')   "
   ]
  },
  {
   "cell_type": "code",
   "execution_count": 95,
   "metadata": {},
   "outputs": [],
   "source": [
    "def check_game_over(brd):\n",
    "    \n",
    "    horizontal = [[0,1,2],[3,4,5],[6,7,8]]\n",
    "    vertical = [[0,3,6],[1,4,7],[2,5,8]]\n",
    "    diagonal = [[0,4,8],[2,4,6]]\n",
    "    \n",
    "    triplets = horizontal + vertical + diagonal\n",
    "    \n",
    "    game_over = False\n",
    "    \n",
    "    for triplet in triplets:\n",
    "        if brd[triplet[0]] != ' ' and brd[triplet[0]] == brd[triplet[1]] == brd[triplet[2]]:\n",
    "            game_over = True\n",
    "            print(f'Game over. Player {brd[triplet[0]]} won!')\n",
    "            \n",
    "            # Display final board\n",
    "            brd[triplet[0]] = '*'\n",
    "            brd[triplet[1]] = '*'\n",
    "            brd[triplet[2]] = '*'\n",
    "            display(brd)\n",
    "            break\n",
    "            \n",
    "    if ' ' not in brd:\n",
    "        game_over = True\n",
    "        print(f\"Game over. It's a tie!\")\n",
    "        display(brd)\n",
    "                \n",
    "    return game_over"
   ]
  },
  {
   "cell_type": "code",
   "execution_count": 100,
   "metadata": {},
   "outputs": [],
   "source": [
    "def game():\n",
    "    brd = list(' '*9)\n",
    "    display(list(range(1,10)))\n",
    "    game_over = False\n",
    "    player = 'X'\n",
    "    \n",
    "    while not game_over:\n",
    "        take_turn(brd, player)\n",
    "        clear_output()\n",
    "        display(brd)\n",
    "        game_over = check_game_over(brd)\n",
    "        player = 'X' if player == 'O' else 'O'\n",
    "        \n",
    "    print('Play Again?')"
   ]
  },
  {
   "cell_type": "code",
   "execution_count": 102,
   "metadata": {},
   "outputs": [
    {
     "name": "stdout",
     "output_type": "stream",
     "text": [
      " X | X | O \n",
      "\n",
      "-----------\n",
      "\n",
      " O | O | X \n",
      "\n",
      "-----------\n",
      "\n",
      " X | O | X \n",
      "Play Again?\n"
     ]
    }
   ],
   "source": [
    "game()"
   ]
  },
  {
   "cell_type": "code",
   "execution_count": null,
   "metadata": {},
   "outputs": [],
   "source": []
  },
  {
   "cell_type": "code",
   "execution_count": null,
   "metadata": {},
   "outputs": [],
   "source": []
  }
 ],
 "metadata": {
  "kernelspec": {
   "display_name": "Python 3",
   "language": "python",
   "name": "python3"
  },
  "language_info": {
   "codemirror_mode": {
    "name": "ipython",
    "version": 3
   },
   "file_extension": ".py",
   "mimetype": "text/x-python",
   "name": "python",
   "nbconvert_exporter": "python",
   "pygments_lexer": "ipython3",
   "version": "3.6.8"
  }
 },
 "nbformat": 4,
 "nbformat_minor": 2
}
